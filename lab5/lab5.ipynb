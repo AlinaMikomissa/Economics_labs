{
 "cells": [
  {
   "cell_type": "code",
   "execution_count": 52,
   "metadata": {},
   "outputs": [],
   "source": [
    "##################  IN, OUT, FILE, INQ, Function Point, SLOC, Raw FP, Effort\n",
    "albrechtDataSet = [[25, 150, 60, 75, 1750, 130000, 1750, 102.4],\n",
    "                   [193, 98, 36, 70, 1902, 318000, 1902, 105.2],\n",
    "                   [70, 27, 12, 0, 428, 20000, 535, 11.1],\n",
    "                   [40, 60, 12, 20, 759, 54000, 660, 21.1],\n",
    "                   [10, 69, 9, 1, 431, 62000, 478, 28.8],\n",
    "                   [13, 19, 23, 0, 283, 28000, 377.33, 10],  \n",
    "                   [34, 14, 5, 0, 205, 35000, 256.25, 8],\n",
    "                   [17, 17, 5, 15, 289, 30000, 262.73, 4.9],\n",
    "                   [45, 64, 16, 14, 680, 48000, 715.79, 12.9],\n",
    "                   [40, 60, 15, 20, 794, 93000, 690.43, 19],\n",
    "                   [41, 27, 5, 29, 512, 57000, 465.45, 10.8],\n",
    "                   [33, 17, 5, 8, 224, 22000, 298.59, 2.9],\n",
    "                   [28, 41, 11, 16, 417, 24000, 490.59, 7.5],\n",
    "                   [43, 40, 35, 20, 682, 42000, 802.35, 12],\n",
    "                   [7, 12, 8, 13, 209, 40000, 220, 4.1],\n",
    "                   [28, 38, 9, 24, 512, 96000, 487.62, 15.8],\n",
    "                   [42, 57, 5, 12, 606, 40000, 550.91, 18.3],\n",
    "                   [27, 20, 6, 24, 400, 52000, 363.64, 8.9],\n",
    "                   [48, 66, 50, 13, 1235, 94000, 1073.91, 38.1],\n",
    "                   [69, 112, 39, 21, 1572, 110000, 1310, 61.2],\n",
    "                   [25, 28, 22, 4, 500, 15000, 476.19, 3.6],\n",
    "                   [61, 68, 11, 0, 694, 24000, 694, 11.8],\n",
    "                   [15, 15, 3, 6, 199, 3000, 189.52, 0.5],\n",
    "                   [12, 15, 15, 0, 260, 29000, 237.68, 6.1]]\n",
    "\n",
    "#IN = 3, OUT = 4, FILE = 0, INQ = 2, FP = 40, VAF = 0.75, AFP = 30, SLOC = 891.\n",
    "smileGameData = [3, 4, 0, 2, 0.75, 40, 30, 891]"
   ]
  },
  {
   "cell_type": "code",
   "execution_count": 53,
   "metadata": {},
   "outputs": [],
   "source": [
    "def countDistance (dataSet_proj, dataSet_curr_proj):\n",
    "    distance = 0\n",
    "    for i in range(0, len(dataSet_proj)):\n",
    "        x = dataSet_proj[i]\n",
    "        y = dataSet_curr_proj[i]\n",
    "        distance += (y-x)**2\n",
    "    return (distance ** 0.5)"
   ]
  },
  {
   "cell_type": "code",
   "execution_count": 54,
   "metadata": {},
   "outputs": [],
   "source": [
    "def countEffort(dataSet_neighbour, dataSet_curr_proj):\n",
    "    effort = len(dataSet_curr_proj)/len(dataSet_neighbour)*dataSet_neighbour[7]\n",
    "    \n",
    "    print(\"Зусилля: \", end=' ')\n",
    "    print(effort)\n",
    "    \n",
    "    return effort"
   ]
  },
  {
   "cell_type": "code",
   "execution_count": 55,
   "metadata": {},
   "outputs": [],
   "source": [
    "def nearestNeigbour(dataSet, dataSet_curr_proj):\n",
    "    neighbour = []\n",
    "    minDistance = 0\n",
    "    for dataItem in dataSet:\n",
    "        distance = countDistance(dataItem, dataSet_curr_proj)\n",
    "        if minDistance == 0 or distance < minDistance:\n",
    "            minDistance = distance\n",
    "            neighbour = dataItem\n",
    "            \n",
    "    print(\"Проект: \", end=' ')\n",
    "    print(dataSet_curr_proj)\n",
    "    print(\"Сусід: \", end=' ')\n",
    "    print(neighbour)\n",
    "    \n",
    "    return neighbour"
   ]
  },
  {
   "cell_type": "code",
   "execution_count": 56,
   "metadata": {},
   "outputs": [
    {
     "name": "stdout",
     "output_type": "stream",
     "text": [
      "Проект:  [3, 4, 0, 2, 0.75, 40, 30, 891]\n",
      "Сусід:  [15, 15, 3, 6, 199, 3000, 189.52, 0.5]\n",
      "Зусилля:  0.5\n"
     ]
    }
   ],
   "source": [
    "neighbour = nearestNeigbour(albrechtDataSet, smileGameData)\n",
    "effort = countEffort(neighbour, smileGameData)\n"
   ]
  }
 ],
 "metadata": {
  "interpreter": {
   "hash": "0f65c23eede5476679184682c503c84731cf692a5e00e0b01124a2cec60a7327"
  },
  "kernelspec": {
   "display_name": "Python 3.8.8 32-bit",
   "language": "python",
   "name": "python3"
  },
  "language_info": {
   "codemirror_mode": {
    "name": "ipython",
    "version": 3
   },
   "file_extension": ".py",
   "mimetype": "text/x-python",
   "name": "python",
   "nbconvert_exporter": "python",
   "pygments_lexer": "ipython3",
   "version": "3.8.8"
  },
  "orig_nbformat": 4
 },
 "nbformat": 4,
 "nbformat_minor": 2
}
